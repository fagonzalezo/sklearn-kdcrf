{
 "cells": [
  {
   "cell_type": "markdown",
   "metadata": {
    "colab_type": "text",
    "id": "view-in-github"
   },
   "source": [
    "<a href=\"https://colab.research.google.com/github/fagonzalezo/sklearn-kdcrf/blob/master/examples/approximation_comparison.ipynb\" target=\"_parent\"><img src=\"https://colab.research.google.com/assets/colab-badge.svg\" alt=\"Open In Colab\"/></a>"
   ]
  },
  {
   "cell_type": "markdown",
   "metadata": {
    "colab_type": "text",
    "id": "vNKj9rUJ2MK_"
   },
   "source": [
    "## Setup code"
   ]
  },
  {
   "cell_type": "code",
   "execution_count": 1,
   "metadata": {
    "colab": {
     "base_uri": "https://localhost:8080/",
     "height": 127
    },
    "colab_type": "code",
    "id": "iHIXYRS-0INz",
    "outputId": "5b62ec34-aeab-4177-d8e7-bf88fa52a743",
    "pycharm": {
     "is_executing": false
    }
   },
   "outputs": [],
   "source": [
    "# Install kdrcf if running in Google Colab\n",
    "\n",
    "try:\n",
    "  import google.colab\n",
    "  IN_COLAB = True\n",
    "except:\n",
    "  IN_COLAB = False\n",
    "\n",
    "if IN_COLAB:\n",
    "    !git clone https://github.com/fagonzalezo/sklearn-kdcrf.git\n",
    "    !mv sklearn-kdcrf/kdcrf .\n",
    "    "
   ]
  },
  {
   "cell_type": "code",
   "execution_count": 2,
   "metadata": {
    "colab": {},
    "colab_type": "code",
    "id": "SbVeXTrGAlzC",
    "pycharm": {
     "is_executing": false
    }
   },
   "outputs": [],
   "source": [
    "%matplotlib inline\n",
    "import pylab as pl\n",
    "import numpy as np\n",
    "\n",
    "# Función para visualizar un conjunto de datos en 2D\n",
    "def plot_data(X, y):\n",
    "    \n",
    "    \n",
    "    y_unique = np.unique(y)\n",
    "    colors = pl.cm.rainbow(np.linspace(0.0, 1.0, y_unique.size))\n",
    "    for this_y, color in zip(y_unique, colors):\n",
    "        this_X = X[y == this_y]\n",
    "        pl.scatter(this_X[:, 0], this_X[:, 1],  c=color,\n",
    "                    alpha=0.5, edgecolor='k',\n",
    "                    label=\"Class %s\" % this_y)\n",
    "    pl.legend(loc=\"best\")\n",
    "    pl.title(\"Data\")\n",
    "    \n",
    "# Función para visualizar de la superficie de decisión de un clasificador\n",
    "def plot_decision_region(X, pred_fun):\n",
    "    print(X.shape)\n",
    "    min_x = np.min(X[:, 0])\n",
    "    max_x = np.max(X[:, 0])\n",
    "    min_y = np.min(X[:, 1])\n",
    "    max_y = np.max(X[:, 1])\n",
    "    min_x = min_x - (max_x - min_x) * 0.05\n",
    "    max_x = max_x + (max_x - min_x) * 0.05\n",
    "    min_y = min_y - (max_y - min_y) * 0.05\n",
    "    max_y = max_y + (max_y - min_y) * 0.05\n",
    "    x_vals = np.linspace(min_x, max_x, 100)\n",
    "    y_vals = np.linspace(min_y, max_y, 100)\n",
    "    XX, YY = np.meshgrid(x_vals, y_vals)\n",
    "    grid_r, grid_c = XX.shape\n",
    "    ZZ = np.zeros((grid_r, grid_c))\n",
    "    for i in range(grid_r):\n",
    "        for j in range(grid_c):\n",
    "            ZZ[i, j] = pred_fun(XX[i, j], YY[i, j])\n",
    "    pl.contourf(XX, YY, ZZ, 100, cmap = pl.cm.coolwarm, vmin= -1, vmax=2)\n",
    "    pl.colorbar()\n",
    "    pl.xlabel(\"x\")\n",
    "    pl.ylabel(\"y\")\n",
    "    \n",
    "def gen_pred_fun(clf):\n",
    "    def pred_fun(x1, x2):\n",
    "        x = np.array([[x1, x2]])\n",
    "        return clf.predict_proba(x)[0][1]\n",
    "    return pred_fun"
   ]
  },
  {
   "cell_type": "markdown",
   "metadata": {
    "colab_type": "text",
    "id": "Mr4jl31g2akC"
   },
   "source": [
    "## Kernel approximation for letters"
   ]
  },
  {
   "cell_type": "code",
   "execution_count": 3,
   "metadata": {
    "colab": {},
    "colab_type": "code",
    "id": "s7u39m3WER6y",
    "pycharm": {
     "is_executing": false
    }
   },
   "outputs": [
    {
     "name": "stdout",
     "text": [
      "Requirement already satisfied: wget in c:\\proyectos\\sklearn-kdcrf\\venv\\lib\\site-packages (3.2)\n"
     ],
     "output_type": "stream"
    }
   ],
   "source": [
    "## https://archive.ics.uci.edu/ml/datasets/Letter+Recognition\n",
    "!pip install wget\n",
    "import wget\n",
    "letter = wget.download(\"https://archive.ics.uci.edu/ml/machine-learning-databases/letter-recognition/letter-recognition.data\")"
   ]
  },
  {
   "cell_type": "code",
   "execution_count": 3,
   "metadata": {
    "colab": {},
    "colab_type": "code",
    "id": "MuAnT6wI6oTl",
    "pycharm": {
     "is_executing": false
    }
   },
   "outputs": [
    {
     "name": "stdout",
     "text": [
      "  0   1   2   3   4   5   6   7   8   9   10  11  12  13  14  15  16\n",
      "0  T   2   8   3   5   1   8  13   0   6   6  10   8   0   8   0   8\n",
      "1  I   5  12   3   7   2  10   5   5   4  13   3   9   2   8   4  10\n",
      "2  D   4  11   6   8   6  10   6   2   6  10   3   7   3   7   3   9\n",
      "3  N   7  11   6   6   3   5   9   4   6   4   4  10   6  10   2   8\n",
      "4  G   2   1   3   1   1   8   6   6   6   6   5   9   1   7   5  10\n",
      "                 1             2             3            4             5   \\\n",
      "count  20000.000000  20000.000000  20000.000000  20000.00000  20000.000000   \n",
      "mean       4.023550      7.035500      5.121850      5.37245      3.505850   \n",
      "std        1.913212      3.304555      2.014573      2.26139      2.190458   \n",
      "min        0.000000      0.000000      0.000000      0.00000      0.000000   \n",
      "25%        3.000000      5.000000      4.000000      4.00000      2.000000   \n",
      "50%        4.000000      7.000000      5.000000      6.00000      3.000000   \n",
      "75%        5.000000      9.000000      6.000000      7.00000      5.000000   \n",
      "max       15.000000     15.000000     15.000000     15.00000     15.000000   \n",
      "\n",
      "                 6             7             8             9             10  \\\n",
      "count  20000.000000  20000.000000  20000.000000  20000.000000  20000.000000   \n",
      "mean       6.897600      7.500450      4.628600      5.178650      8.282050   \n",
      "std        2.026035      2.325354      2.699968      2.380823      2.488475   \n",
      "min        0.000000      0.000000      0.000000      0.000000      0.000000   \n",
      "25%        6.000000      6.000000      3.000000      4.000000      7.000000   \n",
      "50%        7.000000      7.000000      4.000000      5.000000      8.000000   \n",
      "75%        8.000000      9.000000      6.000000      7.000000     10.000000   \n",
      "max       15.000000     15.000000     15.000000     15.000000     15.000000   \n",
      "\n",
      "                11            12            13            14            15  \\\n",
      "count  20000.00000  20000.000000  20000.000000  20000.000000  20000.000000   \n",
      "mean       6.45400      7.929000      3.046100      8.338850      3.691750   \n",
      "std        2.63107      2.080619      2.332541      1.546722      2.567073   \n",
      "min        0.00000      0.000000      0.000000      0.000000      0.000000   \n",
      "25%        5.00000      7.000000      1.000000      8.000000      2.000000   \n",
      "50%        6.00000      8.000000      3.000000      8.000000      3.000000   \n",
      "75%        8.00000      9.000000      4.000000      9.000000      5.000000   \n",
      "max       15.00000     15.000000     15.000000     15.000000     15.000000   \n",
      "\n",
      "                16  \n",
      "count  20000.00000  \n",
      "mean       7.80120  \n",
      "std        1.61747  \n",
      "min        0.00000  \n",
      "25%        7.00000  \n",
      "50%        8.00000  \n",
      "75%        9.00000  \n",
      "max       15.00000  \n"
     ],
     "output_type": "stream"
    }
   ],
   "source": [
    "import pandas as pd\n",
    "letters = pd.read_csv(\"letter-recognition.data\", header=None)\n",
    "print(letters.head())\n",
    "print(letters.describe())\n",
    "\n",
    "vector_letters = letters.values[:,1:]"
   ]
  },
  {
   "cell_type": "code",
   "execution_count": 4,
   "metadata": {
    "colab": {
     "base_uri": "https://localhost:8080/",
     "height": 457
    },
    "colab_type": "code",
    "id": "8hFsx_U0cjrD",
    "outputId": "751ac5cf-02e1-4343-c731-085f9ecd3cb8",
    "pycharm": {
     "is_executing": false
    }
   },
   "outputs": [],
   "source": [
    "##exact kernel\n",
    "from sklearn.metrics.pairwise import pairwise_kernels"
   ]
  },
  {
   "cell_type": "code",
   "execution_count": 5,
   "metadata": {
    "colab": {
     "base_uri": "https://localhost:8080/",
     "height": 457
    },
    "colab_type": "code",
    "id": "XVWPCuXkct__",
    "outputId": "e6cb4787-f393-457a-d016-97d6f8bbf7d2",
    "pycharm": {
     "is_executing": false,
     "name": "#%%\n"
    }
   },
   "outputs": [],
   "source": [
    "##approximate kernel RFF\n",
    "from sklearn.kernel_approximation import RBFSampler\n",
    "from sklearn.metrics import mean_squared_error\n",
    "from kdcrf import RBFSamplerORF\n",
    "from kdcrf import RBFSamplerSORF\n",
    "import time\n",
    "\n",
    "\n",
    "def calculate_mean_square_error(dataset):\n",
    "\n",
    "    exact_rbf_kernel =  pairwise_kernels(X=dataset, Y=dataset, metric=\"rbf\", gamma=1)\n",
    "\n",
    "    ratio_d = range(1,10)\n",
    "    \n",
    "    n_features = dataset.shape[1]\n",
    "    \n",
    "    mse = {}\n",
    "    classifiers = {'rbf rff': RBFSampler(gamma=2**-2, random_state=1), \n",
    "                   'rbf orf': RBFSamplerORF(gamma=2**-1, random_state=1),\n",
    "                   'rbf sorf': RBFSamplerSORF(gamma=2**-1, random_state=1)}\n",
    "    \n",
    "    for clfn in classifiers.keys():\n",
    "        mse[clfn] = []\n",
    "    \n",
    "    for clfn, clf in classifiers.items():\n",
    "        for i in ratio_d:\n",
    "            start_time = time.time()\n",
    "            print(\"sampler: \", clfn, \"n_components:\", n_features*(i))\n",
    "            clf = clf.set_params(n_components=n_features*(i))\n",
    "            clf.fit(dataset)\n",
    "            rff = clf.transform(dataset)\n",
    "            rff_kernel_matrix = np.dot(rff, rff.T)\n",
    "            \n",
    "            ## error of the approximation\n",
    "            mse[clfn].append(mean_squared_error(exact_rbf_kernel, rff_kernel_matrix))\n",
    "            print(\"--- %s seconds ---\" % (time.time() - start_time))\n",
    "    return mse, classifiers, ratio_d"
   ]
  },
  {
   "cell_type": "code",
   "execution_count": 6,
   "outputs": [
    {
     "name": "stdout",
     "text": [
      "sampler:  rbf rff n_components: 16\n",
      "--- 9.157981157302856 seconds ---\n",
      "sampler:  rbf rff n_components: 32\n",
      "--- 8.553090572357178 seconds ---\n",
      "sampler:  rbf rff n_components: 48\n",
      "--- 8.485301494598389 seconds ---\n",
      "sampler:  rbf rff n_components: 64\n",
      "--- 8.437062501907349 seconds ---\n",
      "sampler:  rbf rff n_components: 80\n",
      "--- 9.639973402023315 seconds ---\n",
      "sampler:  rbf rff n_components: 96\n",
      "--- 10.039152383804321 seconds ---\n",
      "sampler:  rbf rff n_components: 112\n",
      "--- 9.248258829116821 seconds ---\n",
      "sampler:  rbf rff n_components: 128\n",
      "--- 8.425492525100708 seconds ---\n",
      "sampler:  rbf rff n_components: 144\n",
      "--- 8.344645023345947 seconds ---\n",
      "sampler:  rbf orf n_components: 16\n",
      "--- 8.729679107666016 seconds ---\n",
      "sampler:  rbf orf n_components: 32\n",
      "--- 8.478288650512695 seconds ---\n",
      "sampler:  rbf orf n_components: 48\n",
      "--- 8.557110786437988 seconds ---\n",
      "sampler:  rbf orf n_components: 64\n",
      "--- 9.930432558059692 seconds ---\n",
      "sampler:  rbf orf n_components: 80\n",
      "--- 8.917190790176392 seconds ---\n",
      "sampler:  rbf orf n_components: 96\n",
      "--- 8.93107295036316 seconds ---\n",
      "sampler:  rbf orf n_components: 112\n",
      "--- 8.835994958877563 seconds ---\n",
      "sampler:  rbf orf n_components: 128\n",
      "--- 8.567121505737305 seconds ---\n",
      "sampler:  rbf orf n_components: 144\n",
      "--- 8.597964763641357 seconds ---\n",
      "sampler:  rbf sorf n_components: 16\n",
      "--- 9.054777145385742 seconds ---\n",
      "sampler:  rbf sorf n_components: 32\n",
      "--- 10.542798519134521 seconds ---\n",
      "sampler:  rbf sorf n_components: 48\n",
      "--- 9.459693431854248 seconds ---\n",
      "sampler:  rbf sorf n_components: 64\n",
      "--- 9.722990274429321 seconds ---\n",
      "sampler:  rbf sorf n_components: 80\n",
      "--- 11.048475503921509 seconds ---\n",
      "sampler:  rbf sorf n_components: 96\n",
      "--- 8.496292352676392 seconds ---\n",
      "sampler:  rbf sorf n_components: 112\n",
      "--- 8.287822961807251 seconds ---\n",
      "sampler:  rbf sorf n_components: 128\n",
      "--- 8.681804180145264 seconds ---\n",
      "sampler:  rbf sorf n_components: 144\n",
      "--- 12.280883073806763 seconds ---\n"
     ],
     "output_type": "stream"
    },
    {
     "name": "stderr",
     "text": [
      "c:\\proyectos\\sklearn-kdcrf\\venv\\lib\\site-packages\\ipykernel_launcher.py:5: MatplotlibDeprecationWarning: Adding an axes using the same arguments as a previous axes currently reuses the earlier instance.  In a future version, a new instance will always be created and returned.  Meanwhile, this warning can be suppressed, and the future behavior ensured, by passing a unique label to each axes instance.\n",
      "  \"\"\"\n",
      "c:\\proyectos\\sklearn-kdcrf\\venv\\lib\\site-packages\\ipykernel_launcher.py:6: MatplotlibDeprecationWarning: Adding an axes using the same arguments as a previous axes currently reuses the earlier instance.  In a future version, a new instance will always be created and returned.  Meanwhile, this warning can be suppressed, and the future behavior ensured, by passing a unique label to each axes instance.\n",
      "  \n",
      "c:\\proyectos\\sklearn-kdcrf\\venv\\lib\\site-packages\\ipykernel_launcher.py:7: MatplotlibDeprecationWarning: Adding an axes using the same arguments as a previous axes currently reuses the earlier instance.  In a future version, a new instance will always be created and returned.  Meanwhile, this warning can be suppressed, and the future behavior ensured, by passing a unique label to each axes instance.\n",
      "  import sys\n"
     ],
     "output_type": "stream"
    },
    {
     "data": {
      "text/plain": "<matplotlib.legend.Legend at 0x25177396c88>"
     },
     "metadata": {},
     "output_type": "execute_result",
     "execution_count": 6
    },
    {
     "data": {
      "text/plain": "<Figure size 432x288 with 1 Axes>",
      "image/png": "[encoded data removed]"
     },
     "metadata": {
      "needs_background": "light"
     },
     "output_type": "display_data"
    }
   ],
   "source": [
    "mse, classifiers, ratio_d = calculate_mean_square_error(vector_letters)\n",
    "\n",
    "for clfn in classifiers.keys(): \n",
    "    pl.plot(np.arange(len(ratio_d)), mse[clfn], label=clfn)\n",
    "pl.axes().set_xticks(np.arange(len(ratio_d)))\n",
    "pl.axes().set_xticklabels(ratio_d)\n",
    "pl.setp(pl.axes().get_xticklabels(), rotation=45, ha=\"right\",\n",
    "         rotation_mode=\"anchor\")\n",
    "pl.legend()"
   ],
   "metadata": {
    "collapsed": false,
    "pycharm": {
     "name": "#%%\n",
     "is_executing": false
    }
   }
  },
  {
   "cell_type": "code",
   "execution_count": null,
   "outputs": [],
   "source": [],
   "metadata": {
    "collapsed": false,
    "pycharm": {
     "name": "#%%\n",
     "is_executing": true
    }
   }
  },
  {
   "cell_type": "code",
   "execution_count": 7,
   "outputs": [],
   "source": [
    "import h5py\n",
    "with h5py.File(\"usps.h5\", 'r') as hf:\n",
    "        train = hf.get('train')\n",
    "        X_tr = train.get('data')[:]\n",
    "        y_tr = train.get('target')[:]\n",
    "        test = hf.get('test')\n",
    "        X_te = test.get('data')[:]\n",
    "        y_te = test.get('target')[:]"
   ],
   "metadata": {
    "collapsed": false,
    "pycharm": {
     "name": "#%%\n",
     "is_executing": false
    }
   }
  },
  {
   "cell_type": "code",
   "execution_count": 10,
   "outputs": [
    {
     "data": {
      "text/plain": "array([[0.    , 0.    , 0.    , ..., 0.    , 0.    , 0.    ],\n       [0.    , 0.    , 0.    , ..., 0.1645, 0.086 , 0.    ],\n       [0.    , 0.    , 0.    , ..., 0.    , 0.    , 0.    ],\n       ...,\n       [0.    , 0.    , 0.    , ..., 0.    , 0.    , 0.    ],\n       [0.    , 0.    , 0.    , ..., 0.    , 0.    , 0.    ],\n       [0.    , 0.    , 0.    , ..., 0.    , 0.    , 0.    ]],\n      dtype=float32)"
     },
     "metadata": {},
     "output_type": "execute_result",
     "execution_count": 10
    }
   ],
   "source": [
    "X_tr"
   ],
   "metadata": {
    "collapsed": false,
    "pycharm": {
     "name": "#%%\n",
     "is_executing": false
    }
   }
  },
  {
   "cell_type": "code",
   "execution_count": 8,
   "outputs": [
    {
     "name": "stdout",
     "text": [
      "sampler:  rbf rff n_components: 256\n",
      "--- 1.5488560199737549 seconds ---\n",
      "sampler:  rbf rff n_components: 512\n",
      "--- 1.8630156517028809 seconds ---\n",
      "sampler:  rbf rff n_components: 768\n",
      "--- 1.8061699867248535 seconds ---\n",
      "sampler:  rbf rff n_components: 1024\n",
      "--- 2.094428777694702 seconds ---\n",
      "sampler:  rbf rff n_components: 1280\n",
      "--- 2.3317325115203857 seconds ---\n",
      "sampler:  rbf rff n_components: 1536\n",
      "--- 2.5491790771484375 seconds ---\n",
      "sampler:  rbf rff n_components: 1792\n",
      "--- 2.469392776489258 seconds ---\n",
      "sampler:  rbf rff n_components: 2048\n",
      "--- 2.7905375957489014 seconds ---\n",
      "sampler:  rbf rff n_components: 2304\n",
      "--- 2.985013961791992 seconds ---\n",
      "sampler:  rbf orf n_components: 256\n",
      "--- 1.7572972774505615 seconds ---\n",
      "sampler:  rbf orf n_components: 512\n",
      "--- 1.7353565692901611 seconds ---\n",
      "sampler:  rbf orf n_components: 768\n",
      "--- 1.9009177684783936 seconds ---\n",
      "sampler:  rbf orf n_components: 1024\n",
      "--- 2.0914225578308105 seconds ---\n",
      "sampler:  rbf orf n_components: 1280\n",
      "--- 2.368635416030884 seconds ---\n",
      "sampler:  rbf orf n_components: 1536\n",
      "--- 2.23503041267395 seconds ---\n",
      "sampler:  rbf orf n_components: 1792\n",
      "--- 2.6479156017303467 seconds ---\n",
      "sampler:  rbf orf n_components: 2048\n",
      "--- 3.136617422103882 seconds ---\n",
      "sampler:  rbf orf n_components: 2304\n",
      "--- 3.218378782272339 seconds ---\n",
      "sampler:  rbf sorf n_components: 256\n",
      "--- 1.7243878841400146 seconds ---\n",
      "sampler:  rbf sorf n_components: 512\n",
      "--- 2.81201434135437 seconds ---\n",
      "sampler:  rbf sorf n_components: 768\n",
      "--- 3.0878262519836426 seconds ---\n",
      "sampler:  rbf sorf n_components: 1024\n",
      "--- 3.50408935546875 seconds ---\n",
      "sampler:  rbf sorf n_components: 1280\n",
      "--- 3.0499908924102783 seconds ---\n",
      "sampler:  rbf sorf n_components: 1536\n",
      "--- 3.2084479331970215 seconds ---\n",
      "sampler:  rbf sorf n_components: 1792\n",
      "--- 2.7606492042541504 seconds ---\n",
      "sampler:  rbf sorf n_components: 2048\n",
      "--- 3.2892000675201416 seconds ---\n",
      "sampler:  rbf sorf n_components: 2304\n",
      "--- 3.2083852291107178 seconds ---\n"
     ],
     "output_type": "stream"
    },
    {
     "name": "stderr",
     "text": [
      "c:\\proyectos\\sklearn-kdcrf\\venv\\lib\\site-packages\\ipykernel_launcher.py:5: MatplotlibDeprecationWarning: Adding an axes using the same arguments as a previous axes currently reuses the earlier instance.  In a future version, a new instance will always be created and returned.  Meanwhile, this warning can be suppressed, and the future behavior ensured, by passing a unique label to each axes instance.\n",
      "  \"\"\"\n",
      "c:\\proyectos\\sklearn-kdcrf\\venv\\lib\\site-packages\\ipykernel_launcher.py:6: MatplotlibDeprecationWarning: Adding an axes using the same arguments as a previous axes currently reuses the earlier instance.  In a future version, a new instance will always be created and returned.  Meanwhile, this warning can be suppressed, and the future behavior ensured, by passing a unique label to each axes instance.\n",
      "  \n",
      "c:\\proyectos\\sklearn-kdcrf\\venv\\lib\\site-packages\\ipykernel_launcher.py:7: MatplotlibDeprecationWarning: Adding an axes using the same arguments as a previous axes currently reuses the earlier instance.  In a future version, a new instance will always be created and returned.  Meanwhile, this warning can be suppressed, and the future behavior ensured, by passing a unique label to each axes instance.\n",
      "  import sys\n"
     ],
     "output_type": "stream"
    },
    {
     "data": {
      "text/plain": "<matplotlib.legend.Legend at 0x2a31f013c18>"
     },
     "metadata": {},
     "output_type": "execute_result",
     "execution_count": 8
    },
    {
     "data": {
      "text/plain": "<Figure size 432x288 with 1 Axes>",
      "image/png": "[encoded data removed]"
     },
     "metadata": {
      "needs_background": "light"
     },
     "output_type": "display_data"
    }
   ],
   "source": [
    "mse, classifiers, ratio_d = calculate_mean_square_error(X_tr)\n",
    "\n",
    "for clfn in classifiers.keys(): \n",
    "    pl.plot(np.arange(len(ratio_d)), mse[clfn], label=clfn)\n",
    "pl.axes().set_xticks(np.arange(len(ratio_d)))\n",
    "pl.axes().set_xticklabels(ratio_d)\n",
    "pl.setp(pl.axes().get_xticklabels(), rotation=45, ha=\"right\",\n",
    "         rotation_mode=\"anchor\")\n",
    "pl.legend()"
   ],
   "metadata": {
    "collapsed": false,
    "pycharm": {
     "name": "#%%\n",
     "is_executing": false
    }
   }
  }
 ],
 "metadata": {
  "colab": {
   "include_colab_link": true,
   "name": "KDCRF.ipynb",
   "provenance": []
  },
  "kernelspec": {
   "display_name": "Python 3",
   "language": "python",
   "name": "python3"
  },
  "language_info": {
   "codemirror_mode": {
    "name": "ipython",
    "version": 3
   },
   "file_extension": ".py",
   "mimetype": "text/x-python",
   "name": "python",
   "nbconvert_exporter": "python",
   "pygments_lexer": "ipython3",
   "version": "3.6.5"
  },
  "pycharm": {
   "stem_cell": {
    "cell_type": "raw",
    "source": [],
    "metadata": {
     "collapsed": false
    }
   }
  }
 },
 "nbformat": 4,
 "nbformat_minor": 1
}