{
 "cells": [
  {
   "cell_type": "markdown",
   "metadata": {
    "colab_type": "text",
    "id": "view-in-github"
   },
   "source": [
    "<a href=\"https://colab.research.google.com/github/fagonzalezo/sklearn-kdcrf/blob/master/examples/approximation_comparison.ipynb\" target=\"_parent\"><img src=\"https://colab.research.google.com/assets/colab-badge.svg\" alt=\"Open In Colab\"/></a>"
   ]
  },
  {
   "cell_type": "markdown",
   "metadata": {
    "colab_type": "text",
    "id": "vNKj9rUJ2MK_"
   },
   "source": [
    "## Setup code"
   ]
  },
  {
   "cell_type": "code",
   "execution_count": 1,
   "metadata": {
    "colab": {
     "base_uri": "https://localhost:8080/",
     "height": 127
    },
    "colab_type": "code",
    "id": "iHIXYRS-0INz",
    "outputId": "5b62ec34-aeab-4177-d8e7-bf88fa52a743",
    "pycharm": {
     "is_executing": false
    }
   },
   "outputs": [],
   "source": [
    "# Install kdrcf if running in Google Colab\n",
    "\n",
    "try:\n",
    "  import google.colab\n",
    "  IN_COLAB = True\n",
    "  \n",
    "except:\n",
    "  IN_COLAB = False\n",
    "\n",
    "if IN_COLAB:\n",
    "    \n",
    "    !git clone https://github.com/fagonzalezo/sklearn-kdcrf.git\n",
    "    !mv sklearn-kdcrf/kdcrf .\n",
    "    "
   ]
  },
  {
   "cell_type": "code",
   "execution_count": 33,
   "metadata": {
    "colab": {},
    "colab_type": "code",
    "id": "SbVeXTrGAlzC",
    "pycharm": {
     "is_executing": false
    }
   },
   "outputs": [
    {
     "name": "stdout",
     "text": [
      "Requirement already satisfied: wget in c:\\proyectos\\sklearn-kdcrf\\venv\\lib\\site-packages (3.2)\n"
     ],
     "output_type": "stream"
    }
   ],
   "source": [
    "%matplotlib inline\n",
    "import pylab as pl\n",
    "import numpy as np\n",
    "import pandas as pd\n",
    "import gzip\n",
    "!pip install wget\n",
    "import wget"
   ]
  },
  {
   "cell_type": "code",
   "execution_count": 3,
   "outputs": [],
   "source": [
    "# Función para visualizar un conjunto de datos en 2D\n",
    "def plot_data(X, y):\n",
    "    \n",
    "    \n",
    "    y_unique = np.unique(y)\n",
    "    colors = pl.cm.rainbow(np.linspace(0.0, 1.0, y_unique.size))\n",
    "    for this_y, color in zip(y_unique, colors):\n",
    "        this_X = X[y == this_y]\n",
    "        pl.scatter(this_X[:, 0], this_X[:, 1],  c=color,\n",
    "                    alpha=0.5, edgecolor='k',\n",
    "                    label=\"Class %s\" % this_y)\n",
    "    pl.legend(loc=\"best\")\n",
    "    pl.title(\"Data\")\n",
    "    \n",
    "# Función para visualizar de la superficie de decisión de un clasificador\n",
    "def plot_decision_region(X, pred_fun):\n",
    "    print(X.shape)\n",
    "    min_x = np.min(X[:, 0])\n",
    "    max_x = np.max(X[:, 0])\n",
    "    min_y = np.min(X[:, 1])\n",
    "    max_y = np.max(X[:, 1])\n",
    "    min_x = min_x - (max_x - min_x) * 0.05\n",
    "    max_x = max_x + (max_x - min_x) * 0.05\n",
    "    min_y = min_y - (max_y - min_y) * 0.05\n",
    "    max_y = max_y + (max_y - min_y) * 0.05\n",
    "    x_vals = np.linspace(min_x, max_x, 100)\n",
    "    y_vals = np.linspace(min_y, max_y, 100)\n",
    "    XX, YY = np.meshgrid(x_vals, y_vals)\n",
    "    grid_r, grid_c = XX.shape\n",
    "    ZZ = np.zeros((grid_r, grid_c))\n",
    "    for i in range(grid_r):\n",
    "        for j in range(grid_c):\n",
    "            ZZ[i, j] = pred_fun(XX[i, j], YY[i, j])\n",
    "    pl.contourf(XX, YY, ZZ, 100, cmap = pl.cm.coolwarm, vmin= -1, vmax=2)\n",
    "    pl.colorbar()\n",
    "    pl.xlabel(\"x\")\n",
    "    pl.ylabel(\"y\")\n",
    "    \n",
    "def gen_pred_fun(clf):\n",
    "    def pred_fun(x1, x2):\n",
    "        x = np.array([[x1, x2]])\n",
    "        return clf.predict_proba(x)[0][1]\n",
    "    return pred_fun"
   ],
   "metadata": {
    "collapsed": false,
    "pycharm": {
     "name": "#%%\n",
     "is_executing": false
    }
   }
  },
  {
   "cell_type": "code",
   "source": [
    "## 50th l2 nearest neighborhood and get an approximate sigma\n",
    "\n",
    "def get_nearest_neighborhood(X):\n",
    "    random_selection = np.random.choice(a=range(0, X.shape[0]), size=1000, replace=True)\n",
    "    np.linalg.norm()\n"
   ],
   "metadata": {
    "collapsed": false,
    "pycharm": {
     "name": "#%% \n",
     "is_executing": false
    }
   },
   "execution_count": 4,
   "outputs": []
  },
  {
   "cell_type": "code",
   "execution_count": 5,
   "metadata": {
    "colab": {
     "base_uri": "https://localhost:8080/",
     "height": 457
    },
    "colab_type": "code",
    "id": "8hFsx_U0cjrD",
    "outputId": "751ac5cf-02e1-4343-c731-085f9ecd3cb8",
    "pycharm": {
     "is_executing": false
    }
   },
   "outputs": [],
   "source": [
    "##exact kernel\n",
    "from sklearn.metrics.pairwise import pairwise_kernels"
   ]
  },
  {
   "cell_type": "code",
   "execution_count": 6,
   "metadata": {
    "colab": {
     "base_uri": "https://localhost:8080/",
     "height": 457
    },
    "colab_type": "code",
    "id": "XVWPCuXkct__",
    "outputId": "e6cb4787-f393-457a-d016-97d6f8bbf7d2",
    "pycharm": {
     "is_executing": false,
     "name": "#%%\n"
    }
   },
   "outputs": [],
   "source": [
    "##approximate kernel RFF\n",
    "from sklearn.kernel_approximation import RBFSampler\n",
    "from sklearn.metrics import mean_squared_error\n",
    "from kdcrf import RBFSamplerORF\n",
    "from kdcrf import RBFSamplerSORF\n",
    "import time\n",
    "import gc\n",
    "\n",
    "\n",
    "def calculate_mean_square_error(dataset, gamma=2**-1):\n",
    "\n",
    "    exact_rbf_kernel =  pairwise_kernels(X=dataset, Y=dataset, metric=\"rbf\", gamma=1)\n",
    "\n",
    "    ratio_d = range(1,10)\n",
    "    \n",
    "    n_features = dataset.shape[1]\n",
    "    \n",
    "    mse = {}\n",
    "    classifiers = {'rbf rff': RBFSampler(gamma=gamma, random_state=1), \n",
    "                   'rbf orf': RBFSamplerORF(gamma=gamma, random_state=1),\n",
    "                   #'rbf sorf': RBFSamplerSORF(gamma=gamma, random_state=1),\n",
    "                   'rbf rff square': RBFSampler(gamma=gamma/2, random_state=1),\n",
    "                   'rbf orf square': RBFSamplerORF(gamma=gamma/2, random_state=1),\n",
    "                   #'rbf sorf square': RBFSamplerSORF(gamma=gamma/2, random_state=1)\n",
    "            }\n",
    "    \n",
    "    for clfn in classifiers.keys():\n",
    "        mse[clfn] = []\n",
    "    \n",
    "    for clfn, clf in classifiers.items():\n",
    "        for i in ratio_d:\n",
    "            start_time = time.time()\n",
    "            print(\"sampler: \", clfn, \"n_components:\", n_features*(i))\n",
    "            clf = clf.set_params(n_components=n_features*(i))\n",
    "            clf.fit(dataset)\n",
    "            rff = clf.transform(dataset)\n",
    "            if clfn in ('rbf rff square', 'rbf orf square', 'rbf sorf square'):\n",
    "                rff_kernel_matrix = np.power(np.dot(rff, rff.T), 2) \n",
    "            else:\n",
    "                rff_kernel_matrix = np.dot(rff, rff.T)\n",
    "            \n",
    "            ## error of the approximation\n",
    "            mse[clfn].append(mean_squared_error(exact_rbf_kernel, rff_kernel_matrix))\n",
    "            del rff_kernel_matrix, rff\n",
    "            gc.collect()\n",
    "            print(\"--- %s seconds ---\" % (time.time() - start_time))\n",
    "    return mse, classifiers, ratio_d"
   ]
  },
  {
   "cell_type": "markdown",
   "source": [
    "## Kernel approximation for letters"
   ],
   "metadata": {
    "collapsed": false
   }
  },
  {
   "cell_type": "code",
   "execution_count": null,
   "outputs": [],
   "source": [
    "letter = wget.download(\"https://archive.ics.uci.edu/ml/machine-learning-databases/letter-recognition/letter-recognition.data\")"
   ],
   "metadata": {
    "collapsed": false,
    "pycharm": {
     "name": "#%%\n",
     "is_executing": true
    }
   }
  },
  {
   "cell_type": "code",
   "execution_count": null,
   "outputs": [],
   "source": [
    "\n",
    "letters = pd.read_csv(\"letter-recognition.data\", header=None)\n",
    "print(letters.head())\n",
    "print(letters.describe())\n",
    "\n",
    "vector_letters = letters.values[:,1:]\n"
   ],
   "metadata": {
    "collapsed": false,
    "pycharm": {
     "name": "#%%\n",
     "is_executing": true
    }
   }
  },
  {
   "cell_type": "code",
   "execution_count": null,
   "outputs": [],
   "source": [
    "mse, classifiers, ratio_d = calculate_mean_square_error(vector_letters)\n",
    "\n",
    "for clfn in classifiers.keys(): \n",
    "    pl.plot(np.arange(len(ratio_d)), mse[clfn], label=clfn)\n",
    "pl.axes().set_xticks(np.arange(len(ratio_d)))\n",
    "pl.axes().set_xticklabels(ratio_d)\n",
    "pl.setp(pl.axes().get_xticklabels(), rotation=45, ha=\"right\",\n",
    "         rotation_mode=\"anchor\")\n",
    "pl.legend()\n"
   ],
   "metadata": {
    "collapsed": false,
    "pycharm": {
     "name": "#%%\n",
     "is_executing": true
    }
   }
  },
  {
   "cell_type": "code",
   "execution_count": null,
   "outputs": [],
   "source": [
    "import h5py\n",
    "with h5py.File(\"usps.h5\", 'r') as hf:\n",
    "        train = hf.get('train')\n",
    "        X_tr = train.get('data')[:]\n",
    "        y_tr = train.get('target')[:]\n",
    "        test = hf.get('test')\n",
    "        X_te = test.get('data')[:]\n",
    "        y_te = test.get('target')[:]"
   ],
   "metadata": {
    "collapsed": false,
    "pycharm": {
     "name": "#%%\n",
     "is_executing": true
    }
   }
  },
  {
   "cell_type": "code",
   "execution_count": null,
   "outputs": [],
   "source": [
    "X_tr"
   ],
   "metadata": {
    "collapsed": false,
    "pycharm": {
     "name": "#%%\n",
     "is_executing": true
    }
   }
  },
  {
   "cell_type": "code",
   "execution_count": null,
   "outputs": [],
   "source": [
    "mse, classifiers, ratio_d = calculate_mean_square_error(X_tr)\n",
    "\n",
    "for clfn in classifiers.keys(): \n",
    "    pl.plot(np.arange(len(ratio_d)), mse[clfn], label=clfn)\n",
    "pl.axes().set_xticks(np.arange(len(ratio_d)))\n",
    "pl.axes().set_xticklabels(ratio_d)\n",
    "pl.setp(pl.axes().get_xticklabels(), rotation=45, ha=\"right\",\n",
    "         rotation_mode=\"anchor\")\n",
    "pl.legend()\n",
    "\n"
   ],
   "metadata": {
    "collapsed": false,
    "pycharm": {
     "name": "#%%\n",
     "is_executing": true
    }
   }
  },
  {
   "cell_type": "code",
   "execution_count": null,
   "outputs": [],
   "source": [
    "# Import datasets, classifiers and performance metrics\n",
    "from sklearn import datasets, svm, pipeline\n",
    "from sklearn.kernel_approximation import (RBFSampler,\n",
    "                                          Nystroem)\n",
    "from sklearn.decomposition import PCA\n",
    "\n",
    "# The digits dataset\n",
    "digits = datasets.load_digits(n_class=9)\n",
    "\n",
    "n_samples = len(digits.data)\n",
    "data = digits.data / 16.\n",
    "data -= data.mean(axis=0)\n",
    "\n",
    "# We learn the digits on the first half of the digits\n",
    "data_train, targets_train = (data[:n_samples // 2],\n",
    "                             digits.target[:n_samples // 2])\n",
    "\n",
    "\n",
    "# Now predict the value of the digit on the second half:\n",
    "data_test, targets_test = (data[n_samples // 2:],\n",
    "                           digits.target[n_samples // 2:])"
   ],
   "metadata": {
    "collapsed": false,
    "pycharm": {
     "name": "#%%\n",
     "is_executing": true
    }
   }
  },
  {
   "cell_type": "code",
   "execution_count": null,
   "outputs": [],
   "source": [
    "mse, classifiers, ratio_d = calculate_mean_square_error(data_train)\n",
    "\n",
    "for clfn in classifiers.keys(): \n",
    "    pl.plot(np.arange(len(ratio_d)), mse[clfn], label=clfn)\n",
    "pl.axes().set_xticks(np.arange(len(ratio_d)))\n",
    "pl.axes().set_xticklabels(ratio_d)\n",
    "pl.setp(pl.axes().get_xticklabels(), rotation=45, ha=\"right\",\n",
    "         rotation_mode=\"anchor\")\n",
    "pl.legend()\n",
    "\n"
   ],
   "metadata": {
    "collapsed": false,
    "pycharm": {
     "name": "#%%\n",
     "is_executing": true
    }
   }
  },
  {
   "cell_type": "markdown",
   "source": [
    "## Moon Database"
   ],
   "metadata": {
    "collapsed": false,
    "pycharm": {
     "name": "#%% md\n"
    }
   }
  },
  {
   "cell_type": "code",
   "execution_count": null,
   "outputs": [],
   "source": [
    "from sklearn.metrics import accuracy_score\n",
    "from sklearn.datasets import make_blobs, make_moons, make_circles\n",
    "from sklearn.preprocessing import MinMaxScaler, OneHotEncoder\n",
    "from sklearn.model_selection import train_test_split\n",
    "\n",
    "X, y = make_moons(n_samples=1000, noise=0.2, random_state=0)\n",
    "scaler = MinMaxScaler()\n",
    "X = scaler.fit_transform(X)\n",
    "#y = y[:, np.newaxis]\n",
    "X_train, X_test, y_train, y_test = train_test_split(\n",
    "        X, y, test_size=0.33, random_state=42)"
   ],
   "metadata": {
    "collapsed": false,
    "pycharm": {
     "name": "#%%\n",
     "is_executing": true
    }
   }
  },
  {
   "cell_type": "code",
   "execution_count": null,
   "outputs": [],
   "source": [
    "mse, classifiers, ratio_d = calculate_mean_square_error(X_train,2**-2)\n",
    "\n",
    "for clfn in classifiers.keys(): \n",
    "    pl.plot(np.arange(len(ratio_d)), mse[clfn], label=clfn)\n",
    "pl.axes().set_xticks(np.arange(len(ratio_d)))\n",
    "pl.axes().set_xticklabels(ratio_d)\n",
    "pl.setp(pl.axes().get_xticklabels(), rotation=45, ha=\"right\",\n",
    "         rotation_mode=\"anchor\")\n",
    "pl.legend()\n",
    "\n"
   ],
   "metadata": {
    "collapsed": false,
    "pycharm": {
     "name": "#%%\n",
     "is_executing": true
    }
   }
  },
  {
   "cell_type": "markdown",
   "source": [
    "## Forest database"
   ],
   "metadata": {
    "collapsed": false
   }
  },
  {
   "cell_type": "code",
   "execution_count": null,
   "outputs": [],
   "source": [
    "!pip install wget\n",
    "import wget\n",
    "forest = wget.download(\"http://archive.ics.uci.edu/ml//machine-learning-databases/covtype/covtype.data.gz\")"
   ],
   "metadata": {
    "collapsed": false,
    "pycharm": {
     "name": "#%%\n",
     "is_executing": true
    }
   }
  },
  {
   "cell_type": "code",
   "execution_count": null,
   "outputs": [],
   "source": [
    "\n",
    "\n",
    "dataset = pd.read_csv('covtype.data.gz', nrows=100, compression='gzip',\n",
    "                   error_bad_lines=False)\n",
    "\n",
    "print(dataset)\n"
   ],
   "metadata": {
    "collapsed": false,
    "pycharm": {
     "name": "#%%\n",
     "is_executing": true
    }
   }
  },
  {
   "cell_type": "code",
   "execution_count": null,
   "outputs": [],
   "source": [
    "mse, classifiers, ratio_d = calculate_mean_square_error(dataset)\n",
    "\n",
    "for clfn in classifiers.keys(): \n",
    "    pl.plot(np.arange(len(ratio_d)), mse[clfn], label=clfn)\n",
    "pl.axes().set_xticks(np.arange(len(ratio_d)))\n",
    "pl.axes().set_xticklabels(ratio_d)\n",
    "pl.setp(pl.axes().get_xticklabels(), rotation=45, ha=\"right\",\n",
    "         rotation_mode=\"anchor\")\n",
    "pl.legend()\n"
   ],
   "metadata": {
    "collapsed": false,
    "pycharm": {
     "name": "#%%\n",
     "is_executing": true
    }
   }
  },
  {
   "cell_type": "markdown",
   "source": [
    "## Cifar database\n"
   ],
   "metadata": {
    "collapsed": false,
    "pycharm": {
     "name": "#%% md\n",
     "is_executing": false
    }
   }
  },
  {
   "cell_type": "code",
   "execution_count": 7,
   "outputs": [],
   "source": [
    "from examples.load_cifar_10 import cifar10\n",
    "\n",
    "train_images, onehot_train_labels, test_images, onehot_test_labels = cifar10()"
   ],
   "metadata": {
    "collapsed": false,
    "pycharm": {
     "name": "#%%\n",
     "is_executing": false
    }
   }
  },
  {
   "cell_type": "code",
   "execution_count": 8,
   "outputs": [],
   "source": [
    "train_images = train_images[:10000]"
   ],
   "metadata": {
    "collapsed": false,
    "pycharm": {
     "name": "#%%\n",
     "is_executing": false
    }
   }
  },
  {
   "cell_type": "code",
   "execution_count": 9,
   "outputs": [
    {
     "name": "stdout",
     "text": [
      "sampler:  rbf rff n_components: 3072\n",
      "--- 7.6759748458862305 seconds ---\n",
      "sampler:  rbf rff n_components: 6144\n",
      "--- 12.120946407318115 seconds ---\n",
      "sampler:  rbf rff n_components: 9216\n",
      "--- 16.32336926460266 seconds ---\n",
      "sampler:  rbf rff n_components: 12288\n",
      "--- 18.377518892288208 seconds ---\n",
      "sampler:  rbf rff n_components: 15360\n",
      "--- 24.171010971069336 seconds ---\n",
      "sampler:  rbf rff n_components: 18432\n",
      "--- 35.721121072769165 seconds ---\n",
      "sampler:  rbf rff n_components: 21504\n",
      "--- 40.581772565841675 seconds ---\n",
      "sampler:  rbf rff n_components: 24576\n",
      "--- 51.34920883178711 seconds ---\n",
      "sampler:  rbf rff n_components: 27648\n",
      "--- 49.79790234565735 seconds ---\n",
      "sampler:  rbf orf n_components: 3072\n",
      "--- 13.914244651794434 seconds ---\n",
      "sampler:  rbf orf n_components: 6144\n",
      "--- 22.310211181640625 seconds ---\n",
      "sampler:  rbf orf n_components: 9216\n",
      "--- 31.181228160858154 seconds ---\n",
      "sampler:  rbf orf n_components: 12288\n",
      "--- 37.89983868598938 seconds ---\n",
      "sampler:  rbf orf n_components: 15360\n",
      "--- 49.59190773963928 seconds ---\n",
      "sampler:  rbf orf n_components: 18432\n",
      "--- 56.940624713897705 seconds ---\n",
      "sampler:  rbf orf n_components: 21504\n",
      "--- 61.28154969215393 seconds ---\n",
      "sampler:  rbf orf n_components: 24576\n",
      "--- 71.66510319709778 seconds ---\n",
      "sampler:  rbf orf n_components: 27648\n",
      "--- 88.08203983306885 seconds ---\n",
      "sampler:  rbf rff square n_components: 3072\n",
      "--- 12.618156671524048 seconds ---\n",
      "sampler:  rbf rff square n_components: 6144\n",
      "--- 18.285871267318726 seconds ---\n",
      "sampler:  rbf rff square n_components: 9216\n",
      "--- 19.037832021713257 seconds ---\n",
      "sampler:  rbf rff square n_components: 12288\n",
      "--- 23.223793029785156 seconds ---\n",
      "sampler:  rbf rff square n_components: 15360\n",
      "--- 28.745882034301758 seconds ---\n",
      "sampler:  rbf rff square n_components: 18432\n",
      "--- 32.11813020706177 seconds ---\n",
      "sampler:  rbf rff square n_components: 21504\n",
      "--- 39.5043740272522 seconds ---\n",
      "sampler:  rbf rff square n_components: 24576\n",
      "--- 47.57088923454285 seconds ---\n",
      "sampler:  rbf rff square n_components: 27648\n",
      "--- 60.24449014663696 seconds ---\n",
      "sampler:  rbf orf square n_components: 3072\n",
      "--- 20.19113802909851 seconds ---\n",
      "sampler:  rbf orf square n_components: 6144\n",
      "--- 26.0023193359375 seconds ---\n",
      "sampler:  rbf orf square n_components: 9216\n",
      "--- 35.899216413497925 seconds ---\n",
      "sampler:  rbf orf square n_components: 12288\n",
      "--- 44.29052996635437 seconds ---\n",
      "sampler:  rbf orf square n_components: 15360\n",
      "--- 57.35048151016235 seconds ---\n",
      "sampler:  rbf orf square n_components: 18432\n",
      "--- 54.56265687942505 seconds ---\n",
      "sampler:  rbf orf square n_components: 21504\n",
      "--- 72.76224088668823 seconds ---\n",
      "sampler:  rbf orf square n_components: 24576\n",
      "--- 85.23641419410706 seconds ---\n",
      "sampler:  rbf orf square n_components: 27648\n",
      "--- 90.8163833618164 seconds ---\n"
     ],
     "output_type": "stream"
    },
    {
     "name": "stderr",
     "text": [
      "c:\\proyectos\\sklearn-kdcrf\\venv\\lib\\site-packages\\ipykernel_launcher.py:5: MatplotlibDeprecationWarning: Adding an axes using the same arguments as a previous axes currently reuses the earlier instance.  In a future version, a new instance will always be created and returned.  Meanwhile, this warning can be suppressed, and the future behavior ensured, by passing a unique label to each axes instance.\n",
      "  \"\"\"\n",
      "c:\\proyectos\\sklearn-kdcrf\\venv\\lib\\site-packages\\ipykernel_launcher.py:6: MatplotlibDeprecationWarning: Adding an axes using the same arguments as a previous axes currently reuses the earlier instance.  In a future version, a new instance will always be created and returned.  Meanwhile, this warning can be suppressed, and the future behavior ensured, by passing a unique label to each axes instance.\n",
      "  \n",
      "c:\\proyectos\\sklearn-kdcrf\\venv\\lib\\site-packages\\ipykernel_launcher.py:7: MatplotlibDeprecationWarning: Adding an axes using the same arguments as a previous axes currently reuses the earlier instance.  In a future version, a new instance will always be created and returned.  Meanwhile, this warning can be suppressed, and the future behavior ensured, by passing a unique label to each axes instance.\n",
      "  import sys\n"
     ],
     "output_type": "stream"
    },
    {
     "data": {
      "text/plain": "<matplotlib.legend.Legend at 0x22d2f272ba8>"
     },
     "metadata": {},
     "output_type": "execute_result",
     "execution_count": 9
    },
    {
     "data": {
      "text/plain": "<Figure size 432x288 with 1 Axes>",
      "image/png": "[encoded data removed]"
     },
     "metadata": {
      "needs_background": "light"
     },
     "output_type": "display_data"
    }
   ],
   "source": [
    "mse, classifiers, ratio_d = calculate_mean_square_error(train_images)\n",
    "\n",
    "for clfn in classifiers.keys(): \n",
    "    pl.plot(np.arange(len(ratio_d)), mse[clfn], label=clfn)\n",
    "pl.axes().set_xticks(np.arange(len(ratio_d)))\n",
    "pl.axes().set_xticklabels(ratio_d)\n",
    "pl.setp(pl.axes().get_xticklabels(), rotation=45, ha=\"right\",\n",
    "         rotation_mode=\"anchor\")\n",
    "pl.legend()\n",
    "\n"
   ],
   "metadata": {
    "collapsed": false,
    "pycharm": {
     "name": "#%%\n",
     "is_executing": false
    }
   }
  },
  {
   "cell_type": "markdown",
   "source": [
    "## MNIST"
   ],
   "metadata": {
    "collapsed": false,
    "pycharm": {
     "name": "#%% md\n"
    }
   }
  },
  {
   "cell_type": "code",
   "execution_count": 10,
   "outputs": [],
   "source": [
    "from requests import get\n",
    "\n",
    "def download_file(url, file_name):\n",
    "    with open(file_name, \"wb\") as file:\n",
    "        response = get(url)\n",
    "        file.write(response.content)\n",
    "        "
   ],
   "metadata": {
    "collapsed": false,
    "pycharm": {
     "name": "#%%\n",
     "is_executing": false
    }
   }
  },
  {
   "cell_type": "code",
   "execution_count": 11,
   "outputs": [],
   "source": [
    "download_file('http://yann.lecun.com/exdb/mnist/train-images-idx3-ubyte.gz', 'train-images-idx3-ubyte.gz')\n",
    "download_file('http://yann.lecun.com/exdb/mnist/train-labels-idx1-ubyte.gz', 'train-labels-idx1-ubyte.gz')"
   ],
   "metadata": {
    "collapsed": false,
    "pycharm": {
     "name": "#%%\n",
     "is_executing": false
    }
   }
  },
  {
   "cell_type": "code",
   "execution_count": 27,
   "outputs": [],
   "source": [
    "def read_mnist(images_path: str, labels_path: str):\n",
    "    with gzip.open(labels_path, 'rb') as labelsFile:\n",
    "        labels = np.frombuffer(labelsFile.read(), dtype=np.uint8, offset=8)\n",
    "\n",
    "    with gzip.open(images_path,'rb') as imagesFile:\n",
    "        length = len(labels)\n",
    "        # Load flat 28x28 px images (784 px), and convert them to 28x28 px\n",
    "        features = np.frombuffer(imagesFile.read(), dtype=np.uint8, offset=16) \\\n",
    "                        .reshape(length, 784)\n",
    "        \n",
    "    return features, labels\n",
    "\n",
    "features, labels = read_mnist('train-images-idx3-ubyte.gz', 'train-labels-idx1-ubyte.gz')"
   ],
   "metadata": {
    "collapsed": false,
    "pycharm": {
     "name": "#%%\n",
     "is_executing": false
    }
   }
  },
  {
   "cell_type": "code",
   "execution_count": 28,
   "outputs": [
    {
     "data": {
      "text/plain": "(60000, 784)"
     },
     "metadata": {},
     "output_type": "execute_result",
     "execution_count": 28
    }
   ],
   "source": [
    "features.shape"
   ],
   "metadata": {
    "collapsed": false,
    "pycharm": {
     "name": "#%%\n",
     "is_executing": false
    }
   }
  },
  {
   "cell_type": "code",
   "execution_count": 30,
   "outputs": [
    {
     "name": "stdout",
     "text": [
      "sampler:  rbf rff n_components: 784\n",
      "--- 4.879883766174316 seconds ---\n",
      "sampler:  rbf rff n_components: 1568\n",
      "--- 6.317342758178711 seconds ---\n",
      "sampler:  rbf rff n_components: 2352\n",
      "--- 9.237790822982788 seconds ---\n",
      "sampler:  rbf rff n_components: 3136\n",
      "--- 8.03811502456665 seconds ---\n",
      "sampler:  rbf rff n_components: 3920\n",
      "--- 6.977380990982056 seconds ---\n",
      "sampler:  rbf rff n_components: 4704\n",
      "--- 8.326149940490723 seconds ---\n",
      "sampler:  rbf rff n_components: 5488\n",
      "--- 11.207072257995605 seconds ---\n",
      "sampler:  rbf rff n_components: 6272\n",
      "--- 12.734408378601074 seconds ---\n",
      "sampler:  rbf rff n_components: 7056\n",
      "--- 12.378313541412354 seconds ---\n",
      "sampler:  rbf orf n_components: 784\n",
      "--- 5.116123199462891 seconds ---\n",
      "sampler:  rbf orf n_components: 1568\n",
      "--- 7.508210182189941 seconds ---\n",
      "sampler:  rbf orf n_components: 2352\n",
      "--- 8.416555643081665 seconds ---\n",
      "sampler:  rbf orf n_components: 3136\n",
      "--- 9.612996816635132 seconds ---\n",
      "sampler:  rbf orf n_components: 3920\n",
      "--- 11.76791524887085 seconds ---\n",
      "sampler:  rbf orf n_components: 4704\n",
      "--- 13.428913593292236 seconds ---\n",
      "sampler:  rbf orf n_components: 5488\n",
      "--- 15.678097009658813 seconds ---\n",
      "sampler:  rbf orf n_components: 6272\n",
      "--- 16.072468280792236 seconds ---\n",
      "sampler:  rbf orf n_components: 7056\n",
      "--- 16.177950143814087 seconds ---\n",
      "sampler:  rbf rff square n_components: 784\n",
      "--- 11.64543628692627 seconds ---\n",
      "sampler:  rbf rff square n_components: 1568\n",
      "--- 12.962624549865723 seconds ---\n",
      "sampler:  rbf rff square n_components: 2352\n",
      "--- 14.638348817825317 seconds ---\n",
      "sampler:  rbf rff square n_components: 3136\n",
      "--- 9.119315147399902 seconds ---\n",
      "sampler:  rbf rff square n_components: 3920\n",
      "--- 11.202749729156494 seconds ---\n",
      "sampler:  rbf rff square n_components: 4704\n",
      "--- 15.398558378219604 seconds ---\n",
      "sampler:  rbf rff square n_components: 5488\n",
      "--- 17.791183471679688 seconds ---\n",
      "sampler:  rbf rff square n_components: 6272\n",
      "--- 24.041093587875366 seconds ---\n",
      "sampler:  rbf rff square n_components: 7056\n",
      "--- 19.923341512680054 seconds ---\n",
      "sampler:  rbf orf square n_components: 784\n",
      "--- 13.675030946731567 seconds ---\n",
      "sampler:  rbf orf square n_components: 1568\n",
      "--- 16.53613543510437 seconds ---\n",
      "sampler:  rbf orf square n_components: 2352\n",
      "--- 17.001707553863525 seconds ---\n",
      "sampler:  rbf orf square n_components: 3136\n",
      "--- 16.346974849700928 seconds ---\n",
      "sampler:  rbf orf square n_components: 3920\n",
      "--- 16.86031198501587 seconds ---\n",
      "sampler:  rbf orf square n_components: 4704\n",
      "--- 19.13126254081726 seconds ---\n",
      "sampler:  rbf orf square n_components: 5488\n",
      "--- 16.23185896873474 seconds ---\n",
      "sampler:  rbf orf square n_components: 6272\n",
      "--- 17.495784521102905 seconds ---\n",
      "sampler:  rbf orf square n_components: 7056\n",
      "--- 22.362332582473755 seconds ---\n"
     ],
     "output_type": "stream"
    },
    {
     "name": "stderr",
     "text": [
      "c:\\proyectos\\sklearn-kdcrf\\venv\\lib\\site-packages\\ipykernel_launcher.py:5: MatplotlibDeprecationWarning: Adding an axes using the same arguments as a previous axes currently reuses the earlier instance.  In a future version, a new instance will always be created and returned.  Meanwhile, this warning can be suppressed, and the future behavior ensured, by passing a unique label to each axes instance.\n",
      "  \"\"\"\n",
      "c:\\proyectos\\sklearn-kdcrf\\venv\\lib\\site-packages\\ipykernel_launcher.py:6: MatplotlibDeprecationWarning: Adding an axes using the same arguments as a previous axes currently reuses the earlier instance.  In a future version, a new instance will always be created and returned.  Meanwhile, this warning can be suppressed, and the future behavior ensured, by passing a unique label to each axes instance.\n",
      "  \n",
      "c:\\proyectos\\sklearn-kdcrf\\venv\\lib\\site-packages\\ipykernel_launcher.py:7: MatplotlibDeprecationWarning: Adding an axes using the same arguments as a previous axes currently reuses the earlier instance.  In a future version, a new instance will always be created and returned.  Meanwhile, this warning can be suppressed, and the future behavior ensured, by passing a unique label to each axes instance.\n",
      "  import sys\n"
     ],
     "output_type": "stream"
    },
    {
     "data": {
      "text/plain": "<matplotlib.legend.Legend at 0x22d305563c8>"
     },
     "metadata": {},
     "output_type": "execute_result",
     "execution_count": 30
    },
    {
     "data": {
      "text/plain": "<Figure size 432x288 with 1 Axes>",
      "image/png": "[encoded data removed]"
     },
     "metadata": {
      "needs_background": "light"
     },
     "output_type": "display_data"
    }
   ],
   "source": [
    "mse, classifiers, ratio_d = calculate_mean_square_error(features[0:10000,:])\n",
    "\n",
    "for clfn in classifiers.keys(): \n",
    "    pl.plot(np.arange(len(ratio_d)), mse[clfn], label=clfn)\n",
    "pl.axes().set_xticks(np.arange(len(ratio_d)))\n",
    "pl.axes().set_xticklabels(ratio_d)\n",
    "pl.setp(pl.axes().get_xticklabels(), rotation=45, ha=\"right\",\n",
    "         rotation_mode=\"anchor\")\n",
    "pl.legend()\n",
    "\n"
   ],
   "metadata": {
    "collapsed": false,
    "pycharm": {
     "name": "#%%\n",
     "is_executing": false
    }
   }
  },
  {
   "cell_type": "markdown",
   "source": [
    "##Gisette"
   ],
   "metadata": {
    "collapsed": false,
    "pycharm": {
     "name": "#%% md\n"
    }
   }
  },
  {
   "cell_type": "code",
   "execution_count": 34,
   "outputs": [
    {
     "data": {
      "text/plain": "'gisette_train.data'"
     },
     "metadata": {},
     "output_type": "execute_result",
     "execution_count": 34
    }
   ],
   "source": [
    "\n",
    "wget.download(\"https://archive.ics.uci.edu/ml/machine-learning-databases/gisette/GISETTE/gisette_train.data\")"
   ],
   "metadata": {
    "collapsed": false,
    "pycharm": {
     "name": "#%%\n",
     "is_executing": false
    }
   }
  },
  {
   "cell_type": "code",
   "execution_count": 46,
   "outputs": [
    {
     "name": "stdout",
     "text": [
      "   0     1     2     3     4     5     6     7     8     9     ...  4991  \\\n",
      "0   550     0   495     0     0     0     0   976     0     0  ...     0   \n",
      "1     0     0     0     0     0     0     0   976     0     0  ...   475   \n",
      "2     0     0     0     0     0     0     0     0     0     0  ...     0   \n",
      "3     0     0   742     0     0     0     0   684     0   956  ...     0   \n",
      "4     0     0     0     0     0     0     0   608     0   979  ...     0   \n",
      "\n",
      "   4992  4993  4994  4995  4996  4997  4998  4999  5000  \n",
      "0     0   991   991     0     0     0     0   983   NaN  \n",
      "1     0   991     0     0   991     0     0     0   NaN  \n",
      "2     0     0     0     0     0     0     0     0   NaN  \n",
      "3     0     0     0     0   674     0     0   838   NaN  \n",
      "4     0   828     0     0     0     0     0     0   NaN  \n",
      "\n",
      "[5 rows x 5001 columns]\n",
      "              0            1            2            3            4     \\\n",
      "count  6000.000000  6000.000000  6000.000000  6000.000000  6000.000000   \n",
      "mean    111.022833    11.251000   173.261167     0.951000    15.169167   \n",
      "std     284.848291    91.448864   341.759463    25.771877   109.238579   \n",
      "min       0.000000     0.000000     0.000000     0.000000     0.000000   \n",
      "25%       0.000000     0.000000     0.000000     0.000000     0.000000   \n",
      "50%       0.000000     0.000000     0.000000     0.000000     0.000000   \n",
      "75%       0.000000     0.000000     0.000000     0.000000     0.000000   \n",
      "max     999.000000   999.000000   999.000000   983.000000   999.000000   \n",
      "\n",
      "              5            6            7            8            9     ...  \\\n",
      "count  6000.000000  6000.000000  6000.000000  6000.000000  6000.000000  ...   \n",
      "mean     50.209333    15.206333   323.073167     2.207667   146.355667  ...   \n",
      "std     194.682629   106.963813   418.413159    39.746428   317.863306  ...   \n",
      "min       0.000000     0.000000     0.000000     0.000000     0.000000  ...   \n",
      "25%       0.000000     0.000000     0.000000     0.000000     0.000000  ...   \n",
      "50%       0.000000     0.000000     0.000000     0.000000     0.000000  ...   \n",
      "75%       0.000000     0.000000   786.000000     0.000000     0.000000  ...   \n",
      "max     999.000000   999.000000   999.000000   991.000000   999.000000  ...   \n",
      "\n",
      "              4991         4992         4993        4994         4995  \\\n",
      "count  6000.000000  6000.000000  6000.000000  6000.00000  6000.000000   \n",
      "mean    111.407500     2.035333   318.539667    81.03950    44.777333   \n",
      "std     276.658528    41.781918   420.830651   256.10652   185.273192   \n",
      "min       0.000000     0.000000     0.000000     0.00000     0.000000   \n",
      "25%       0.000000     0.000000     0.000000     0.00000     0.000000   \n",
      "50%       0.000000     0.000000     0.000000     0.00000     0.000000   \n",
      "75%       0.000000     0.000000   790.250000     0.00000     0.000000   \n",
      "max     999.000000   999.000000   999.000000   999.00000   999.000000   \n",
      "\n",
      "              4996         4997         4998         4999  5000  \n",
      "count  6000.000000  6000.000000  6000.000000  6000.000000   0.0  \n",
      "mean    263.813667    14.720667   122.423500   153.636000   NaN  \n",
      "std     394.966054   106.994417   294.247413   326.609648   NaN  \n",
      "min       0.000000     0.000000     0.000000     0.000000   NaN  \n",
      "25%       0.000000     0.000000     0.000000     0.000000   NaN  \n",
      "50%       0.000000     0.000000     0.000000     0.000000   NaN  \n",
      "75%     659.250000     0.000000     0.000000     0.000000   NaN  \n",
      "max     999.000000   999.000000   999.000000   999.000000   NaN  \n",
      "\n",
      "[8 rows x 5001 columns]\n"
     ],
     "output_type": "stream"
    }
   ],
   "source": [
    "\n",
    "gisette = pd.read_csv(\"gisette_train.data\", header=None, sep=\" \")\n",
    "print(gisette.head())\n",
    "print(gisette.describe())"
   ],
   "metadata": {
    "collapsed": false,
    "pycharm": {
     "name": "#%%\n",
     "is_executing": false
    }
   }
  },
  {
   "cell_type": "code",
   "execution_count": 50,
   "outputs": [],
   "source": [
    "gisette = gisette.loc[:, 0:4999]"
   ],
   "metadata": {
    "collapsed": false,
    "pycharm": {
     "name": "#%%\n",
     "is_executing": false
    }
   }
  },
  {
   "cell_type": "code",
   "execution_count": 52,
   "outputs": [
    {
     "data": {
      "text/plain": "(6000, 5000)"
     },
     "metadata": {},
     "output_type": "execute_result",
     "execution_count": 52
    }
   ],
   "source": [
    "gisette.shape"
   ],
   "metadata": {
    "collapsed": false,
    "pycharm": {
     "name": "#%%\n",
     "is_executing": false
    }
   }
  },
  {
   "cell_type": "code",
   "execution_count": 53,
   "outputs": [
    {
     "name": "stdout",
     "text": [
      "sampler:  rbf rff n_components: 5000\n",
      "--- 8.887234449386597 seconds ---\n",
      "sampler:  rbf rff n_components: 10000\n",
      "--- 16.358510732650757 seconds ---\n",
      "sampler:  rbf rff n_components: 15000\n",
      "--- 24.34269118309021 seconds ---\n",
      "sampler:  rbf rff n_components: 20000\n",
      "--- 28.20645499229431 seconds ---\n",
      "sampler:  rbf rff n_components: 25000\n",
      "--- 36.20362949371338 seconds ---\n",
      "sampler:  rbf rff n_components: 30000\n",
      "--- 41.89373254776001 seconds ---\n",
      "sampler:  rbf rff n_components: 35000\n",
      "--- 58.76637506484985 seconds ---\n",
      "sampler:  rbf rff n_components: 40000\n",
      "--- 65.16372656822205 seconds ---\n",
      "sampler:  rbf rff n_components: 45000\n",
      "--- 64.3708484172821 seconds ---\n",
      "sampler:  rbf orf n_components: 5000\n",
      "--- 44.01228642463684 seconds ---\n",
      "sampler:  rbf orf n_components: 10000\n",
      "--- 90.52014970779419 seconds ---\n",
      "sampler:  rbf orf n_components: 15000\n",
      "--- 99.23911046981812 seconds ---\n",
      "sampler:  rbf orf n_components: 20000\n",
      "--- 102.93143367767334 seconds ---\n",
      "sampler:  rbf orf n_components: 25000\n",
      "--- 116.65705275535583 seconds ---\n",
      "sampler:  rbf orf n_components: 30000\n",
      "--- 135.5607192516327 seconds ---\n",
      "sampler:  rbf orf n_components: 35000\n",
      "--- 218.285297870636 seconds ---\n",
      "sampler:  rbf orf n_components: 40000\n",
      "--- 247.88066005706787 seconds ---\n",
      "sampler:  rbf orf n_components: 45000\n",
      "--- 284.7767469882965 seconds ---\n",
      "sampler:  rbf rff square n_components: 5000\n",
      "--- 7.739217758178711 seconds ---\n",
      "sampler:  rbf rff square n_components: 10000\n",
      "--- 13.869123458862305 seconds ---\n",
      "sampler:  rbf rff square n_components: 15000\n",
      "--- 23.088767290115356 seconds ---\n",
      "sampler:  rbf rff square n_components: 20000\n",
      "--- 27.077237844467163 seconds ---\n",
      "sampler:  rbf rff square n_components: 25000\n",
      "--- 37.486687898635864 seconds ---\n",
      "sampler:  rbf rff square n_components: 30000\n",
      "--- 42.49281024932861 seconds ---\n",
      "sampler:  rbf rff square n_components: 35000\n",
      "--- 49.87013554573059 seconds ---\n",
      "sampler:  rbf rff square n_components: 40000\n",
      "--- 52.31678748130798 seconds ---\n",
      "sampler:  rbf rff square n_components: 45000\n",
      "--- 56.74207639694214 seconds ---\n",
      "sampler:  rbf orf square n_components: 5000\n",
      "--- 38.43611145019531 seconds ---\n",
      "sampler:  rbf orf square n_components: 10000\n",
      "--- 46.16888880729675 seconds ---\n",
      "sampler:  rbf orf square n_components: 15000\n",
      "--- 82.80728006362915 seconds ---\n",
      "sampler:  rbf orf square n_components: 20000\n",
      "--- 108.26345348358154 seconds ---\n",
      "sampler:  rbf orf square n_components: 25000\n",
      "--- 92.20643329620361 seconds ---\n",
      "sampler:  rbf orf square n_components: 30000\n",
      "--- 151.98622274398804 seconds ---\n",
      "sampler:  rbf orf square n_components: 35000\n",
      "--- 172.04822206497192 seconds ---\n",
      "sampler:  rbf orf square n_components: 40000\n",
      "--- 188.8744888305664 seconds ---\n",
      "sampler:  rbf orf square n_components: 45000\n",
      "--- 210.92301678657532 seconds ---\n"
     ],
     "output_type": "stream"
    },
    {
     "name": "stderr",
     "text": [
      "c:\\proyectos\\sklearn-kdcrf\\venv\\lib\\site-packages\\ipykernel_launcher.py:5: MatplotlibDeprecationWarning: Adding an axes using the same arguments as a previous axes currently reuses the earlier instance.  In a future version, a new instance will always be created and returned.  Meanwhile, this warning can be suppressed, and the future behavior ensured, by passing a unique label to each axes instance.\n",
      "  \"\"\"\n",
      "c:\\proyectos\\sklearn-kdcrf\\venv\\lib\\site-packages\\ipykernel_launcher.py:6: MatplotlibDeprecationWarning: Adding an axes using the same arguments as a previous axes currently reuses the earlier instance.  In a future version, a new instance will always be created and returned.  Meanwhile, this warning can be suppressed, and the future behavior ensured, by passing a unique label to each axes instance.\n",
      "  \n",
      "c:\\proyectos\\sklearn-kdcrf\\venv\\lib\\site-packages\\ipykernel_launcher.py:7: MatplotlibDeprecationWarning: Adding an axes using the same arguments as a previous axes currently reuses the earlier instance.  In a future version, a new instance will always be created and returned.  Meanwhile, this warning can be suppressed, and the future behavior ensured, by passing a unique label to each axes instance.\n",
      "  import sys\n"
     ],
     "output_type": "stream"
    },
    {
     "data": {
      "text/plain": "<matplotlib.legend.Legend at 0x22d373a4668>"
     },
     "metadata": {},
     "output_type": "execute_result",
     "execution_count": 53
    },
    {
     "data": {
      "text/plain": "<Figure size 432x288 with 1 Axes>",
      "image/png": "[encoded data removed]"
     },
     "metadata": {
      "needs_background": "light"
     },
     "output_type": "display_data"
    }
   ],
   "source": [
    "mse, classifiers, ratio_d = calculate_mean_square_error(gisette)\n",
    "\n",
    "for clfn in classifiers.keys(): \n",
    "    pl.plot(np.arange(len(ratio_d)), mse[clfn], label=clfn)\n",
    "pl.axes().set_xticks(np.arange(len(ratio_d)))\n",
    "pl.axes().set_xticklabels(ratio_d)\n",
    "pl.setp(pl.axes().get_xticklabels(), rotation=45, ha=\"right\",\n",
    "         rotation_mode=\"anchor\")\n",
    "pl.legend()"
   ],
   "metadata": {
    "collapsed": false,
    "pycharm": {
     "name": "#%%\n",
     "is_executing": false
    }
   }
  }
 ],
 "metadata": {
  "colab": {
   "include_colab_link": true,
   "name": "KDCRF.ipynb",
   "provenance": []
  },
  "kernelspec": {
   "display_name": "Python 3",
   "language": "python",
   "name": "python3"
  },
  "language_info": {
   "codemirror_mode": {
    "name": "ipython",
    "version": 3
   },
   "file_extension": ".py",
   "mimetype": "text/x-python",
   "name": "python",
   "nbconvert_exporter": "python",
   "pygments_lexer": "ipython3",
   "version": "3.6.5"
  },
  "pycharm": {
   "stem_cell": {
    "cell_type": "raw",
    "source": [],
    "metadata": {
     "collapsed": false
    }
   }
  }
 },
 "nbformat": 4,
 "nbformat_minor": 1
}